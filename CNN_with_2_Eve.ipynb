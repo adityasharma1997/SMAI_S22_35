{
  "nbformat": 4,
  "nbformat_minor": 0,
  "metadata": {
    "colab": {
      "name": "CNN_with_2 Eve.ipynb",
      "provenance": [],
      "collapsed_sections": []
    },
    "kernelspec": {
      "name": "python3",
      "display_name": "Python 3"
    },
    "language_info": {
      "name": "python"
    },
    "accelerator": "GPU"
  },
  "cells": [
    {
      "cell_type": "code",
      "execution_count": null,
      "metadata": {
        "id": "-ZcyOI7lbgkB"
      },
      "outputs": [],
      "source": [
        "import pandas as pd\n",
        "import numpy as np\n",
        "import sys\n",
        "\n",
        "from keras import backend as K\n",
        "from keras.engine.input_layer import Input\n",
        "from keras.layers.core import Activation, Dense\n",
        "from keras.layers.convolutional import Conv1D\n",
        "from keras.layers import Flatten, Reshape\n",
        "from keras.layers.merge import concatenate\n",
        "from keras.models import Model\n",
        "from tensorflow.keras.optimizers import Adam, RMSprop\n",
        "from keras.models import load_model"
      ]
    },
    {
      "cell_type": "code",
      "source": [
        "MESG_SIZE = 16\n",
        "KEY_SIZE = 16\n",
        "LEARNING_RATE = 0.001"
      ],
      "metadata": {
        "id": "3tevXv5Jb1Ja"
      },
      "execution_count": null,
      "outputs": []
    },
    {
      "cell_type": "code",
      "source": [
        "def random_batch(X_train, y_train, batch_size):\n",
        "    index_set = np.random.randint(0, X_train.shape[0], batch_size)\n",
        "    X_batch = X_train[index_set]\n",
        "    y_batch = y_train[index_set]\n",
        "    return X_batch, y_batch"
      ],
      "metadata": {
        "id": "2k0O97yY18Hj"
      },
      "execution_count": null,
      "outputs": []
    },
    {
      "cell_type": "code",
      "source": [
        "K.clear_session()\n",
        "\n",
        "##### Alice network #####\n",
        "#\n",
        "InputAlice0 = Input(shape=(MESG_SIZE,)) #message\n",
        "InputAlice1 = Input(shape=(KEY_SIZE,)) #key\n",
        "InputAlice = concatenate([InputAlice0, InputAlice1], axis=1)\n",
        "\n",
        "DenseAlice1 = Dense(units=(MESG_SIZE + KEY_SIZE))(InputAlice)\n",
        "DenseAlice1a = Activation('tanh')(DenseAlice1)\n",
        "Alicereshape = Reshape((MESG_SIZE + KEY_SIZE, 1,))(DenseAlice1a)\n",
        "\n",
        "ConvAlice1 = Conv1D(filters=2, kernel_size=4, strides=1, padding='same',  activation = 'tanh')(Alicereshape)\n",
        "ConvAlice2 = Conv1D(filters=4, kernel_size=2, strides=2, padding='same',  activation = 'tanh')(ConvAlice1)\n",
        "ConvAlice3 = Conv1D(filters=4, kernel_size=1, strides=1, padding='same',  activation = 'tanh')(ConvAlice2)\n",
        "ConvAlice4 = Conv1D(filters=1, kernel_size=1, strides=1, padding='same',  activation = 'sigmoid')(ConvAlice3)\n",
        "\n",
        "OutputAlice = Flatten()(ConvAlice4)\n",
        "\n",
        "Alice = Model([InputAlice0, InputAlice1], OutputAlice, name='alice')\n",
        "#alice.summary()\n",
        "\n",
        "\n",
        "##### Bob network #####\n",
        "#\n",
        "InputBob0 = Input(shape=(MESG_SIZE,)) #ciphertext\n",
        "InputBob1 = Input(shape=(KEY_SIZE,)) #key\n",
        "InputBob = concatenate([InputBob0, InputBob1], axis=1)\n",
        "\n",
        "DenseBob1 = Dense(units=(MESG_SIZE + KEY_SIZE))(InputBob)\n",
        "DenseBob1a = Activation('tanh')(DenseBob1)\n",
        "\n",
        "bobReshape = Reshape((MESG_SIZE + KEY_SIZE, 1,))(DenseBob1a)\n",
        "\n",
        "convBob1 = Conv1D(filters=2, kernel_size=4, strides=1, padding='same', activation ='tanh')(bobReshape)\n",
        "convBob2 = Conv1D(filters=4, kernel_size=2, strides=2, padding='same', activation ='tanh')(convBob1)\n",
        "convBob3 = Conv1D(filters=4, kernel_size=1, strides=1, padding='same', activation ='tanh')(convBob2)\n",
        "convBob4 = Conv1D(filters=1, kernel_size=1, strides=1, padding='same', activation ='sigmoid')(convBob3)\n",
        "boutput = Flatten()(convBob4)\n",
        "\n",
        "Bob = Model([InputBob0, InputBob1], boutput, name='bob')\n",
        "#bob.summary()\n",
        "\n",
        "\n",
        "# Eve network\n",
        "#\n",
        "inputEve = Input(shape=(MESG_SIZE,)) #ciphertext only\n",
        "\n",
        "denseEve1 = Dense(units=(MESG_SIZE + KEY_SIZE))(inputEve)\n",
        "denseEve1a = Activation('tanh')(denseEve1)\n",
        "\n",
        "denseEve2 = Dense(units=(MESG_SIZE + KEY_SIZE))(denseEve1a)\n",
        "denseEve2a = Activation('tanh')(denseEve2)\n",
        "\n",
        "eveReshape = Reshape((MESG_SIZE + KEY_SIZE, 1,))(denseEve2a)\n",
        "\n",
        "convoEve1 = Conv1D(filters=2, kernel_size=4, strides=1, padding='same', activation ='tanh')(eveReshape)\n",
        "convoEve2 = Conv1D(filters=4, kernel_size=2, strides=2, padding='same', activation ='tanh')(convoEve1)\n",
        "convoEve3 = Conv1D(filters=4, kernel_size=1, strides=1, padding='same', activation ='tanh')(convoEve2)\n",
        "convoEve4 = Conv1D(filters=1, kernel_size=1, strides=1, padding='same', activation ='sigmoid')(convoEve3)\n",
        "\n",
        "eveOutput = Flatten()(convoEve4)# Eve's attempt at code guessing\n",
        "\n",
        "Eve = Model(inputEve, eveOutput, name='eve')"
      ],
      "metadata": {
        "id": "XNEle2reb3NY"
      },
      "execution_count": null,
      "outputs": []
    },
    {
      "cell_type": "code",
      "source": [
        "inputEve_2 = Input(shape=(MESG_SIZE,)) #ciphertext only\n",
        "\n",
        "denseEve1_2 = Dense(units=(MESG_SIZE + KEY_SIZE))(inputEve_2)\n",
        "denseEve1a_2 = Activation('tanh')(denseEve1_2)\n",
        "\n",
        "denseEve2_2 = Dense(units=(MESG_SIZE + KEY_SIZE))(denseEve1a_2)\n",
        "denseEve2a_2 = Activation('tanh')(denseEve2_2)\n",
        "\n",
        "eveReshape_2 = Reshape((MESG_SIZE + KEY_SIZE, 1,))(denseEve2a_2)\n",
        "\n",
        "convoEve1_2 = Conv1D(filters=2, kernel_size=4, strides=1, padding='same', activation ='tanh')(eveReshape_2)\n",
        "convoEve2_2 = Conv1D(filters=4, kernel_size=2, strides=2, padding='same', activation ='tanh')(convoEve1_2)\n",
        "convoEve3_2 = Conv1D(filters=4, kernel_size=1, strides=1, padding='same', activation ='tanh')(convoEve2_2)\n",
        "convoEve4_2 = Conv1D(filters=1, kernel_size=1, strides=1, padding='same', activation ='sigmoid')(convoEve3_2)\n",
        "\n",
        "eveOutput_2 = Flatten()(convoEve4_2)# Eve's attempt at code guessing\n",
        "\n",
        "Eve_2 = Model(inputEve_2, eveOutput_2, name='eve_2')"
      ],
      "metadata": {
        "id": "vP64YV9H3mOl"
      },
      "execution_count": null,
      "outputs": []
    },
    {
      "cell_type": "code",
      "source": [
        "Alice.compile(loss='mse', optimizer='sgd')\n",
        "Bob.compile(loss='mse', optimizer='sgd')\n",
        "Eve.compile(loss='mse', optimizer='sgd')\n",
        "Eve_2.compile(loss='mse', optimizer='sgd')"
      ],
      "metadata": {
        "id": "V7ubzrUGb8e-"
      },
      "execution_count": null,
      "outputs": []
    },
    {
      "cell_type": "code",
      "source": [
        "lossesAliceBob = list()\n",
        "lossesBob = list()\n",
        "lossesEve = list()\n",
        "lossesEve_2 = list()"
      ],
      "metadata": {
        "id": "LwrDrzZOeOiw"
      },
      "execution_count": null,
      "outputs": []
    },
    {
      "cell_type": "code",
      "source": [
        "aliceOutput = Alice([InputAlice0, InputAlice1])\n",
        "bobOut = Bob( [aliceOutput, InputBob1] )# bob sees ciphertext AND key\n",
        "eveOut = Eve( aliceOutput )\n",
        "eve_2Out = Eve_2( aliceOutput )\n",
        "\n",
        "t_loss = K.sum(K.abs(InputAlice0 - eveOut), axis=-1)\n",
        "eveloss = K.mean(t_loss)\n",
        "t_2_loss = K.sum(K.abs(InputAlice1 - eve_2Out), axis=-1)\n",
        "eve_2loss = K.mean(t_2_loss)\n",
        "\n",
        "b_loss = K.sum(K.abs(InputAlice0 - bobOut), axis=-1)\n",
        "bobloss = K.mean(b_loss)\n",
        "abeloss = bobloss \n",
        "abeloss +=(K.square(MESG_SIZE/2 - eveloss)+K.square(KEY_SIZE/2- eve_2loss))/( (MESG_SIZE//2)**2 )\n",
        "\n",
        "# Optimizer and compilation\n",
        "#\n",
        "abeoptim = RMSprop(lr=LEARNING_RATE)\n",
        "eveoptim = RMSprop(lr=LEARNING_RATE) \n",
        "eveoptim_2 = RMSprop(lr=LEARNING_RATE) \n",
        "\n",
        "\n",
        "aliceBobModel = Model([InputAlice0, InputAlice1, InputBob1], bobOut, name='abemodel')\n",
        "aliceBobModel.add_loss(abeloss)\n",
        "aliceBobModel.compile(optimizer=abeoptim)\n",
        "\n",
        "\n",
        "# Build and compile the EVE model, used for training Eve net (with Alice frozen)\n",
        "#\n",
        "Alice.trainable = False\n",
        "eveModel = Model([InputAlice0, InputAlice1], eveOut, name='eveModel')\n",
        "eveModel.add_loss(eveloss)\n",
        "eveModel.compile(optimizer=eveoptim)\n",
        "\n",
        "Alice.trainable = False\n",
        "eve_2Model = Model([InputAlice0, InputAlice1], eve_2Out, name='eve_2Model')\n",
        "eve_2Model.add_loss(eve_2loss)\n",
        "eve_2Model.compile(optimizer=eveoptim_2)"
      ],
      "metadata": {
        "id": "rpKQmXPXqYaf",
        "colab": {
          "base_uri": "https://localhost:8080/"
        },
        "outputId": "abe27884-1630-48af-c836-b5c1cb2f1c8a"
      },
      "execution_count": null,
      "outputs": [
        {
          "output_type": "stream",
          "name": "stderr",
          "text": [
            "/usr/local/lib/python3.7/dist-packages/keras/optimizer_v2/rmsprop.py:130: UserWarning: The `lr` argument is deprecated, use `learning_rate` instead.\n",
            "  super(RMSprop, self).__init__(name, **kwargs)\n"
          ]
        }
      ]
    },
    {
      "cell_type": "code",
      "source": [
        "epochs = 10\n",
        "batch_size = 128\n",
        "batches = (2**(MESG_SIZE)) // batch_size\n",
        "\n",
        "for epoch in range(epochs):\n",
        "    lossesAliceBob_l = list()\n",
        "    lossesBob_l = list()\n",
        "    lossesEve_l = list()\n",
        "    lossesEve_2_l = list()\n",
        "    print(epoch)\n",
        "    for ii in range(batches):\n",
        "        \n",
        "        # Train the A-B+E network\n",
        "        #\n",
        "        Alice.trainable = True\n",
        "        \n",
        "        MSG = np.random.randint(0, 2, MESG_SIZE * batch_size).reshape(batch_size, MESG_SIZE)\n",
        "        KEY = np.random.randint(0, 2, KEY_SIZE * batch_size).reshape(batch_size, KEY_SIZE)\n",
        "        loss = aliceBobModel.train_on_batch([MSG, KEY, KEY], None)\n",
        "        \n",
        "        lossesAliceBob_l.append(loss)\n",
        "        lossesAliceBob.append(loss)\n",
        "        abeavg = np.mean(lossesAliceBob_l)\n",
        "        if ii==batches-1:\n",
        "          lossesAliceBob.append(loss)\n",
        "          \n",
        "            \n",
        "         ### BOB NETWORK ####\n",
        "        m_enc = Alice.predict([MSG, KEY])\n",
        "        m_dec = Bob.predict([m_enc, KEY])\n",
        "        temp_loss=np.sum( np.abs(MSG - m_dec), axis=-1)\n",
        "        loss = np.mean(temp_loss)\n",
        "        lossesBob_l.append(loss)\n",
        "        lossesBob.append(loss)\n",
        "        bobavg = np.mean(lossesBob_l)\n",
        "        \n",
        "        ### EVE NETWORK ####\n",
        "        Alice.trainable = False\n",
        "        for cycle in range(2):\n",
        "            MSG = np.random.randint(0, 2, MESG_SIZE * batch_size).reshape(batch_size, MESG_SIZE)\n",
        "            KEY = np.random.randint(0, 2, KEY_SIZE * batch_size).reshape(batch_size, KEY_SIZE)\n",
        "            loss = eveModel.train_on_batch([MSG, KEY], None)\n",
        "        \n",
        "        lossesEve_l.append(loss)\n",
        "        lossesEve.append(loss)\n",
        "        eveavg = np.mean(lossesEve_l)\n",
        "\n",
        "\n",
        "        # //////////////////\n",
        "        Alice.trainable = False\n",
        "        for cycle in range(2):\n",
        "            MSG = np.random.randint(0, 2, MESG_SIZE * batch_size).reshape(batch_size, MESG_SIZE)\n",
        "            KEY = np.random.randint(0, 2, KEY_SIZE * batch_size).reshape(batch_size, KEY_SIZE)\n",
        "            loss = eve_2Model.train_on_batch([MSG, KEY], None)\n",
        "        \n",
        "        lossesEve_2_l.append(loss)\n",
        "        lossesEve_2.append(loss)\n",
        "        eve_2avg = np.mean(lossesEve_2_l)\n"
      ],
      "metadata": {
        "id": "DZI4sxATeSsB",
        "colab": {
          "base_uri": "https://localhost:8080/"
        },
        "outputId": "1c28b4bd-02c1-47c6-c9ba-2bbe4deda601"
      },
      "execution_count": 13,
      "outputs": [
        {
          "output_type": "stream",
          "name": "stdout",
          "text": [
            "0\n",
            "1\n",
            "2\n",
            "3\n",
            "4\n",
            "5\n",
            "6\n",
            "7\n",
            "8\n",
            "9\n"
          ]
        }
      ]
    },
    {
      "cell_type": "code",
      "source": [
        "import matplotlib\n",
        "import matplotlib.pyplot as plt"
      ],
      "metadata": {
        "id": "ibcKXF_92MCt"
      },
      "execution_count": 15,
      "outputs": []
    },
    {
      "cell_type": "code",
      "source": [
        "height = 8\n",
        "width = 4"
      ],
      "metadata": {
        "id": "8haYoXGx1ltW"
      },
      "execution_count": null,
      "outputs": []
    },
    {
      "cell_type": "code",
      "source": [
        "steps = -1\n",
        "\n",
        "plt.figure(figsize=(height,width ))\n",
        "plt.plot(lossesBob[:steps], label='Bob')\n",
        "plt.plot(lossesEve[:steps], label='Eve')\n",
        "plt.plot(lossesAliceBob[:steps], label='A-B')\n",
        "plt.plot(lossesEve_2[:steps], label='Eve_2')\n",
        "plt.xlabel(\"Iterations\", fontsize=13)\n",
        "plt.ylabel(\"Loss\", fontsize=13)\n",
        "plt.legend(fontsize=13)\n",
        "plt.title('Loss v/s Iterations')\n",
        "plt.show()"
      ],
      "metadata": {
        "id": "GByRzWPTeU-1",
        "colab": {
          "base_uri": "https://localhost:8080/",
          "height": 298
        },
        "outputId": "b7192faa-d538-4221-be80-5dd03589bffa"
      },
      "execution_count": 14,
      "outputs": [
        {
          "output_type": "display_data",
          "data": {
            "text/plain": [
              "<Figure size 576x288 with 1 Axes>"
            ],
            "image/png": "[encoded data removed]"
          },
          "metadata": {
            "needs_background": "light"
          }
        }
      ]
    },
    {
      "cell_type": "code",
      "source": [
        ""
      ],
      "metadata": {
        "id": "Zt14dHvawbEK"
      },
      "execution_count": null,
      "outputs": []
    }
  ]
}